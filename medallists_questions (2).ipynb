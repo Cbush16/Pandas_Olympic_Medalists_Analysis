{
 "cells": [
  {
   "cell_type": "markdown",
   "id": "91897254-5948-40f3-9e91-f60161871296",
   "metadata": {},
   "source": [
    "# 2024 Olymptic Medelist Dataset"
   ]
  },
  {
   "cell_type": "code",
   "execution_count": 1,
   "id": "adf47029",
   "metadata": {},
   "outputs": [],
   "source": [
    "import pandas as pd"
   ]
  },
  {
   "cell_type": "code",
   "execution_count": 2,
   "id": "50b257da",
   "metadata": {},
   "outputs": [],
   "source": [
    "data=pd.read_csv(\"medallists.csv\")"
   ]
  },
  {
   "cell_type": "code",
   "execution_count": 3,
   "id": "194ba818",
   "metadata": {},
   "outputs": [
    {
     "data": {
      "text/html": [
       "<div>\n",
       "<style scoped>\n",
       "    .dataframe tbody tr th:only-of-type {\n",
       "        vertical-align: middle;\n",
       "    }\n",
       "\n",
       "    .dataframe tbody tr th {\n",
       "        vertical-align: top;\n",
       "    }\n",
       "\n",
       "    .dataframe thead th {\n",
       "        text-align: right;\n",
       "    }\n",
       "</style>\n",
       "<table border=\"1\" class=\"dataframe\">\n",
       "  <thead>\n",
       "    <tr style=\"text-align: right;\">\n",
       "      <th></th>\n",
       "      <th>medal_date</th>\n",
       "      <th>medal_type</th>\n",
       "      <th>medal_code</th>\n",
       "      <th>name</th>\n",
       "      <th>gender</th>\n",
       "      <th>country_code</th>\n",
       "      <th>country</th>\n",
       "      <th>country_long</th>\n",
       "      <th>nationality_code</th>\n",
       "      <th>nationality</th>\n",
       "      <th>...</th>\n",
       "      <th>team</th>\n",
       "      <th>team_gender</th>\n",
       "      <th>discipline</th>\n",
       "      <th>event</th>\n",
       "      <th>event_type</th>\n",
       "      <th>url_event</th>\n",
       "      <th>birth_date</th>\n",
       "      <th>code_athlete</th>\n",
       "      <th>code_team</th>\n",
       "      <th>is_medallist</th>\n",
       "    </tr>\n",
       "  </thead>\n",
       "  <tbody>\n",
       "    <tr>\n",
       "      <th>0</th>\n",
       "      <td>2024-07-27</td>\n",
       "      <td>Gold Medal</td>\n",
       "      <td>1.0</td>\n",
       "      <td>EVENEPOEL Remco</td>\n",
       "      <td>Male</td>\n",
       "      <td>BEL</td>\n",
       "      <td>Belgium</td>\n",
       "      <td>Belgium</td>\n",
       "      <td>BEL</td>\n",
       "      <td>Belgium</td>\n",
       "      <td>...</td>\n",
       "      <td>NaN</td>\n",
       "      <td>NaN</td>\n",
       "      <td>Cycling Road</td>\n",
       "      <td>Men's Individual Time Trial</td>\n",
       "      <td>ATH</td>\n",
       "      <td>/en/paris-2024/results/cycling-road/men-s-indi...</td>\n",
       "      <td>2000-01-25</td>\n",
       "      <td>1903136</td>\n",
       "      <td>NaN</td>\n",
       "      <td>True</td>\n",
       "    </tr>\n",
       "    <tr>\n",
       "      <th>1</th>\n",
       "      <td>2024-07-27</td>\n",
       "      <td>Silver Medal</td>\n",
       "      <td>2.0</td>\n",
       "      <td>GANNA Filippo</td>\n",
       "      <td>Male</td>\n",
       "      <td>ITA</td>\n",
       "      <td>Italy</td>\n",
       "      <td>Italy</td>\n",
       "      <td>ITA</td>\n",
       "      <td>Italy</td>\n",
       "      <td>...</td>\n",
       "      <td>NaN</td>\n",
       "      <td>NaN</td>\n",
       "      <td>Cycling Road</td>\n",
       "      <td>Men's Individual Time Trial</td>\n",
       "      <td>ATH</td>\n",
       "      <td>/en/paris-2024/results/cycling-road/men-s-indi...</td>\n",
       "      <td>1996-07-25</td>\n",
       "      <td>1923520</td>\n",
       "      <td>NaN</td>\n",
       "      <td>True</td>\n",
       "    </tr>\n",
       "    <tr>\n",
       "      <th>2</th>\n",
       "      <td>2024-07-27</td>\n",
       "      <td>Bronze Medal</td>\n",
       "      <td>3.0</td>\n",
       "      <td>van AERT Wout</td>\n",
       "      <td>Male</td>\n",
       "      <td>BEL</td>\n",
       "      <td>Belgium</td>\n",
       "      <td>Belgium</td>\n",
       "      <td>BEL</td>\n",
       "      <td>Belgium</td>\n",
       "      <td>...</td>\n",
       "      <td>NaN</td>\n",
       "      <td>NaN</td>\n",
       "      <td>Cycling Road</td>\n",
       "      <td>Men's Individual Time Trial</td>\n",
       "      <td>ATH</td>\n",
       "      <td>/en/paris-2024/results/cycling-road/men-s-indi...</td>\n",
       "      <td>1994-09-15</td>\n",
       "      <td>1903147</td>\n",
       "      <td>NaN</td>\n",
       "      <td>True</td>\n",
       "    </tr>\n",
       "    <tr>\n",
       "      <th>3</th>\n",
       "      <td>2024-07-27</td>\n",
       "      <td>Gold Medal</td>\n",
       "      <td>1.0</td>\n",
       "      <td>BROWN Grace</td>\n",
       "      <td>Female</td>\n",
       "      <td>AUS</td>\n",
       "      <td>Australia</td>\n",
       "      <td>Australia</td>\n",
       "      <td>AUS</td>\n",
       "      <td>Australia</td>\n",
       "      <td>...</td>\n",
       "      <td>NaN</td>\n",
       "      <td>NaN</td>\n",
       "      <td>Cycling Road</td>\n",
       "      <td>Women's Individual Time Trial</td>\n",
       "      <td>ATH</td>\n",
       "      <td>/en/paris-2024/results/cycling-road/women-s-in...</td>\n",
       "      <td>1992-07-07</td>\n",
       "      <td>1940173</td>\n",
       "      <td>NaN</td>\n",
       "      <td>True</td>\n",
       "    </tr>\n",
       "    <tr>\n",
       "      <th>4</th>\n",
       "      <td>2024-07-27</td>\n",
       "      <td>Silver Medal</td>\n",
       "      <td>2.0</td>\n",
       "      <td>HENDERSON Anna</td>\n",
       "      <td>Female</td>\n",
       "      <td>GBR</td>\n",
       "      <td>Great Britain</td>\n",
       "      <td>Great Britain</td>\n",
       "      <td>GBR</td>\n",
       "      <td>Great Britain</td>\n",
       "      <td>...</td>\n",
       "      <td>NaN</td>\n",
       "      <td>NaN</td>\n",
       "      <td>Cycling Road</td>\n",
       "      <td>Women's Individual Time Trial</td>\n",
       "      <td>ATH</td>\n",
       "      <td>/en/paris-2024/results/cycling-road/women-s-in...</td>\n",
       "      <td>1998-11-14</td>\n",
       "      <td>1912525</td>\n",
       "      <td>NaN</td>\n",
       "      <td>True</td>\n",
       "    </tr>\n",
       "  </tbody>\n",
       "</table>\n",
       "<p>5 rows × 21 columns</p>\n",
       "</div>"
      ],
      "text/plain": [
       "   medal_date    medal_type  medal_code             name  gender country_code  \\\n",
       "0  2024-07-27    Gold Medal         1.0  EVENEPOEL Remco    Male          BEL   \n",
       "1  2024-07-27  Silver Medal         2.0    GANNA Filippo    Male          ITA   \n",
       "2  2024-07-27  Bronze Medal         3.0    van AERT Wout    Male          BEL   \n",
       "3  2024-07-27    Gold Medal         1.0      BROWN Grace  Female          AUS   \n",
       "4  2024-07-27  Silver Medal         2.0   HENDERSON Anna  Female          GBR   \n",
       "\n",
       "         country   country_long nationality_code    nationality  ... team  \\\n",
       "0        Belgium        Belgium              BEL        Belgium  ...  NaN   \n",
       "1          Italy          Italy              ITA          Italy  ...  NaN   \n",
       "2        Belgium        Belgium              BEL        Belgium  ...  NaN   \n",
       "3      Australia      Australia              AUS      Australia  ...  NaN   \n",
       "4  Great Britain  Great Britain              GBR  Great Britain  ...  NaN   \n",
       "\n",
       "  team_gender    discipline                          event event_type  \\\n",
       "0         NaN  Cycling Road    Men's Individual Time Trial        ATH   \n",
       "1         NaN  Cycling Road    Men's Individual Time Trial        ATH   \n",
       "2         NaN  Cycling Road    Men's Individual Time Trial        ATH   \n",
       "3         NaN  Cycling Road  Women's Individual Time Trial        ATH   \n",
       "4         NaN  Cycling Road  Women's Individual Time Trial        ATH   \n",
       "\n",
       "                                           url_event  birth_date code_athlete  \\\n",
       "0  /en/paris-2024/results/cycling-road/men-s-indi...  2000-01-25      1903136   \n",
       "1  /en/paris-2024/results/cycling-road/men-s-indi...  1996-07-25      1923520   \n",
       "2  /en/paris-2024/results/cycling-road/men-s-indi...  1994-09-15      1903147   \n",
       "3  /en/paris-2024/results/cycling-road/women-s-in...  1992-07-07      1940173   \n",
       "4  /en/paris-2024/results/cycling-road/women-s-in...  1998-11-14      1912525   \n",
       "\n",
       "   code_team is_medallist  \n",
       "0        NaN         True  \n",
       "1        NaN         True  \n",
       "2        NaN         True  \n",
       "3        NaN         True  \n",
       "4        NaN         True  \n",
       "\n",
       "[5 rows x 21 columns]"
      ]
     },
     "execution_count": 3,
     "metadata": {},
     "output_type": "execute_result"
    }
   ],
   "source": [
    "data.head()"
   ]
  },
  {
   "cell_type": "markdown",
   "id": "865bc8c9",
   "metadata": {},
   "source": [
    "## 1. How many unique countries are represented in the dataset?\n",
    "*Hint: Use the `unique()` or `nunique()` function on the `country` or `country_long` column.*"
   ]
  },
  {
   "cell_type": "code",
   "execution_count": 4,
   "id": "031ad9e9",
   "metadata": {
    "scrolled": true
   },
   "outputs": [
    {
     "data": {
      "text/plain": [
       "array(['Belgium', 'Italy', 'Australia', 'Great Britain', 'United States',\n",
       "       'Korea', 'Tunisia', 'Hong Kong, China', 'France', 'Hungary',\n",
       "       'Kazakhstan', 'Japan', 'Spain', 'Mongolia', 'Sweden', 'Germany',\n",
       "       'Canada', 'Poland', 'Egypt', 'Brazil', 'Republic of Moldova',\n",
       "       'Uzbekistan', 'Kosovo', 'China', 'India', 'Slovakia',\n",
       "       'South Africa', 'Ukraine', 'Azerbaijan', 'Croatia', 'Switzerland',\n",
       "       'Romania', 'Ireland', 'Georgia', 'Tajikistan', 'Slovenia',\n",
       "       'Mexico', 'Guatemala', 'Argentina', 'Greece', 'Austria',\n",
       "       'Netherlands', 'New Zealand', 'Ecuador', 'Israel', 'Portugal',\n",
       "       'Uganda', 'Ethiopia', 'AIN', 'Philippines', 'Norway', 'Grenada',\n",
       "       'Jamaica', 'Saint Lucia', 'Dominica', 'Chinese Taipei',\n",
       "       'Lithuania', 'Armenia', 'Algeria', 'Indonesia',\n",
       "       'Dominican Republic', 'Cabo Verde', 'Cuba', 'DPR Korea', 'Chile',\n",
       "       'Serbia', 'Colombia', 'Kenya', 'Denmark', 'Thailand', 'Malaysia',\n",
       "       'Bahrain', 'IR Iran', 'Kyrgyzstan', 'Türkiye', 'Morocco', 'Zambia',\n",
       "       'Cyprus', 'Peru', 'Botswana', 'Pakistan', 'Bulgaria', 'EOR',\n",
       "       'Jordan', 'Czechia', 'Singapore', 'Qatar', 'Puerto Rico', 'Panama',\n",
       "       \"Côte d'Ivoire\", 'Albania', 'Fiji'], dtype=object)"
      ]
     },
     "execution_count": 4,
     "metadata": {},
     "output_type": "execute_result"
    }
   ],
   "source": [
    "data['country'].unique()"
   ]
  },
  {
   "cell_type": "code",
   "execution_count": 19,
   "id": "66a1f825",
   "metadata": {},
   "outputs": [
    {
     "data": {
      "text/plain": [
       "92"
      ]
     },
     "execution_count": 19,
     "metadata": {},
     "output_type": "execute_result"
    }
   ],
   "source": [
    "data['country'].nunique()"
   ]
  },
  {
   "cell_type": "markdown",
   "id": "a78566bb",
   "metadata": {},
   "source": [
    "## 2. Which event had the most medalists?\n",
    "*Hint: Use `value_counts()` on the `event` column to determine the event with the highest number of medalists.*"
   ]
  },
  {
   "cell_type": "code",
   "execution_count": 6,
   "id": "57b2aee6",
   "metadata": {},
   "outputs": [
    {
     "data": {
      "text/plain": [
       "'Men'"
      ]
     },
     "execution_count": 6,
     "metadata": {},
     "output_type": "execute_result"
    }
   ],
   "source": [
    "data['event'].value_counts().idxmax()"
   ]
  },
  {
   "cell_type": "markdown",
   "id": "4c26c537",
   "metadata": {},
   "source": [
    "## 3. What is the gender distribution of the medalists?\n",
    "*Hint: Use `value_counts()` on the `gender` column.*"
   ]
  },
  {
   "cell_type": "code",
   "execution_count": 7,
   "id": "2c52e18a",
   "metadata": {},
   "outputs": [
    {
     "data": {
      "text/plain": [
       "gender\n",
       "Female    1162\n",
       "Male      1153\n",
       "Name: count, dtype: int64"
      ]
     },
     "execution_count": 7,
     "metadata": {},
     "output_type": "execute_result"
    }
   ],
   "source": [
    "data['gender'].value_counts()"
   ]
  },
  {
   "cell_type": "markdown",
   "id": "94d04b5b",
   "metadata": {},
   "source": [
    "## 4. How many athletes from Belgium won medals?\n",
    "*Hint: Filter on the `country_code` column with `BEL` and check the number of rows.*"
   ]
  },
  {
   "cell_type": "code",
   "execution_count": 8,
   "id": "80efb9eb",
   "metadata": {
    "scrolled": true
   },
   "outputs": [
    {
     "data": {
      "text/html": [
       "<div>\n",
       "<style scoped>\n",
       "    .dataframe tbody tr th:only-of-type {\n",
       "        vertical-align: middle;\n",
       "    }\n",
       "\n",
       "    .dataframe tbody tr th {\n",
       "        vertical-align: top;\n",
       "    }\n",
       "\n",
       "    .dataframe thead th {\n",
       "        text-align: right;\n",
       "    }\n",
       "</style>\n",
       "<table border=\"1\" class=\"dataframe\">\n",
       "  <thead>\n",
       "    <tr style=\"text-align: right;\">\n",
       "      <th></th>\n",
       "      <th>medal_date</th>\n",
       "      <th>medal_type</th>\n",
       "      <th>medal_code</th>\n",
       "      <th>name</th>\n",
       "      <th>gender</th>\n",
       "      <th>country_code</th>\n",
       "      <th>country</th>\n",
       "      <th>country_long</th>\n",
       "      <th>nationality_code</th>\n",
       "      <th>nationality</th>\n",
       "      <th>...</th>\n",
       "      <th>team</th>\n",
       "      <th>team_gender</th>\n",
       "      <th>discipline</th>\n",
       "      <th>event</th>\n",
       "      <th>event_type</th>\n",
       "      <th>url_event</th>\n",
       "      <th>birth_date</th>\n",
       "      <th>code_athlete</th>\n",
       "      <th>code_team</th>\n",
       "      <th>is_medallist</th>\n",
       "    </tr>\n",
       "  </thead>\n",
       "  <tbody>\n",
       "    <tr>\n",
       "      <th>0</th>\n",
       "      <td>2024-07-27</td>\n",
       "      <td>Gold Medal</td>\n",
       "      <td>1.0</td>\n",
       "      <td>EVENEPOEL Remco</td>\n",
       "      <td>Male</td>\n",
       "      <td>BEL</td>\n",
       "      <td>Belgium</td>\n",
       "      <td>Belgium</td>\n",
       "      <td>BEL</td>\n",
       "      <td>Belgium</td>\n",
       "      <td>...</td>\n",
       "      <td>NaN</td>\n",
       "      <td>NaN</td>\n",
       "      <td>Cycling Road</td>\n",
       "      <td>Men's Individual Time Trial</td>\n",
       "      <td>ATH</td>\n",
       "      <td>/en/paris-2024/results/cycling-road/men-s-indi...</td>\n",
       "      <td>2000-01-25</td>\n",
       "      <td>1903136</td>\n",
       "      <td>NaN</td>\n",
       "      <td>True</td>\n",
       "    </tr>\n",
       "    <tr>\n",
       "      <th>2</th>\n",
       "      <td>2024-07-27</td>\n",
       "      <td>Bronze Medal</td>\n",
       "      <td>3.0</td>\n",
       "      <td>van AERT Wout</td>\n",
       "      <td>Male</td>\n",
       "      <td>BEL</td>\n",
       "      <td>Belgium</td>\n",
       "      <td>Belgium</td>\n",
       "      <td>BEL</td>\n",
       "      <td>Belgium</td>\n",
       "      <td>...</td>\n",
       "      <td>NaN</td>\n",
       "      <td>NaN</td>\n",
       "      <td>Cycling Road</td>\n",
       "      <td>Men's Individual Time Trial</td>\n",
       "      <td>ATH</td>\n",
       "      <td>/en/paris-2024/results/cycling-road/men-s-indi...</td>\n",
       "      <td>1994-09-15</td>\n",
       "      <td>1903147</td>\n",
       "      <td>NaN</td>\n",
       "      <td>True</td>\n",
       "    </tr>\n",
       "    <tr>\n",
       "      <th>147</th>\n",
       "      <td>2024-07-31</td>\n",
       "      <td>Bronze Medal</td>\n",
       "      <td>3.0</td>\n",
       "      <td>WILLEMS Gabriella</td>\n",
       "      <td>Female</td>\n",
       "      <td>BEL</td>\n",
       "      <td>Belgium</td>\n",
       "      <td>Belgium</td>\n",
       "      <td>BEL</td>\n",
       "      <td>Belgium</td>\n",
       "      <td>...</td>\n",
       "      <td>NaN</td>\n",
       "      <td>NaN</td>\n",
       "      <td>Judo</td>\n",
       "      <td>Women -70 kg</td>\n",
       "      <td>HATH</td>\n",
       "      <td>/en/paris-2024/results/judo/women--70-kg/repf0...</td>\n",
       "      <td>1997-07-01</td>\n",
       "      <td>1903248</td>\n",
       "      <td>NaN</td>\n",
       "      <td>True</td>\n",
       "    </tr>\n",
       "    <tr>\n",
       "      <th>266</th>\n",
       "      <td>2024-08-03</td>\n",
       "      <td>Gold Medal</td>\n",
       "      <td>1.0</td>\n",
       "      <td>EVENEPOEL Remco</td>\n",
       "      <td>Male</td>\n",
       "      <td>BEL</td>\n",
       "      <td>Belgium</td>\n",
       "      <td>Belgium</td>\n",
       "      <td>BEL</td>\n",
       "      <td>Belgium</td>\n",
       "      <td>...</td>\n",
       "      <td>NaN</td>\n",
       "      <td>NaN</td>\n",
       "      <td>Cycling Road</td>\n",
       "      <td>Men's Road Race</td>\n",
       "      <td>ATH</td>\n",
       "      <td>/en/paris-2024/results/cycling-road/men-s-road...</td>\n",
       "      <td>2000-01-25</td>\n",
       "      <td>1903136</td>\n",
       "      <td>NaN</td>\n",
       "      <td>True</td>\n",
       "    </tr>\n",
       "    <tr>\n",
       "      <th>337</th>\n",
       "      <td>2024-08-04</td>\n",
       "      <td>Bronze Medal</td>\n",
       "      <td>3.0</td>\n",
       "      <td>KOPECKY Lotte</td>\n",
       "      <td>Female</td>\n",
       "      <td>BEL</td>\n",
       "      <td>Belgium</td>\n",
       "      <td>Belgium</td>\n",
       "      <td>BEL</td>\n",
       "      <td>Belgium</td>\n",
       "      <td>...</td>\n",
       "      <td>NaN</td>\n",
       "      <td>NaN</td>\n",
       "      <td>Cycling Road</td>\n",
       "      <td>Women's Road Race</td>\n",
       "      <td>ATH</td>\n",
       "      <td>/en/paris-2024/results/cycling-road/women-s-ro...</td>\n",
       "      <td>1995-11-10</td>\n",
       "      <td>1903120</td>\n",
       "      <td>NaN</td>\n",
       "      <td>True</td>\n",
       "    </tr>\n",
       "    <tr>\n",
       "      <th>530</th>\n",
       "      <td>2024-08-08</td>\n",
       "      <td>Bronze Medal</td>\n",
       "      <td>3.0</td>\n",
       "      <td>van den BOSSCHE Fabio</td>\n",
       "      <td>Male</td>\n",
       "      <td>BEL</td>\n",
       "      <td>Belgium</td>\n",
       "      <td>Belgium</td>\n",
       "      <td>BEL</td>\n",
       "      <td>Belgium</td>\n",
       "      <td>...</td>\n",
       "      <td>NaN</td>\n",
       "      <td>NaN</td>\n",
       "      <td>Cycling Track</td>\n",
       "      <td>Men's Omnium</td>\n",
       "      <td>ATH</td>\n",
       "      <td>/en/paris-2024/results/cycling-track/men-s-omn...</td>\n",
       "      <td>2000-09-21</td>\n",
       "      <td>1915370</td>\n",
       "      <td>NaN</td>\n",
       "      <td>True</td>\n",
       "    </tr>\n",
       "    <tr>\n",
       "      <th>623</th>\n",
       "      <td>2024-08-09</td>\n",
       "      <td>Bronze Medal</td>\n",
       "      <td>3.0</td>\n",
       "      <td>CHAARI Sarah</td>\n",
       "      <td>Female</td>\n",
       "      <td>BEL</td>\n",
       "      <td>Belgium</td>\n",
       "      <td>Belgium</td>\n",
       "      <td>BEL</td>\n",
       "      <td>Belgium</td>\n",
       "      <td>...</td>\n",
       "      <td>NaN</td>\n",
       "      <td>NaN</td>\n",
       "      <td>Taekwondo</td>\n",
       "      <td>Women -67kg</td>\n",
       "      <td>HATH</td>\n",
       "      <td>/en/paris-2024/results/taekwondo/women--67kg/r...</td>\n",
       "      <td>2005-05-02</td>\n",
       "      <td>1903284</td>\n",
       "      <td>NaN</td>\n",
       "      <td>True</td>\n",
       "    </tr>\n",
       "    <tr>\n",
       "      <th>652</th>\n",
       "      <td>2024-08-10</td>\n",
       "      <td>Silver Medal</td>\n",
       "      <td>2.0</td>\n",
       "      <td>ABDI Bashir</td>\n",
       "      <td>Male</td>\n",
       "      <td>BEL</td>\n",
       "      <td>Belgium</td>\n",
       "      <td>Belgium</td>\n",
       "      <td>BEL</td>\n",
       "      <td>Belgium</td>\n",
       "      <td>...</td>\n",
       "      <td>NaN</td>\n",
       "      <td>NaN</td>\n",
       "      <td>Athletics</td>\n",
       "      <td>Men's Marathon</td>\n",
       "      <td>ATH</td>\n",
       "      <td>/en/paris-2024/results/athletics/men-s-maratho...</td>\n",
       "      <td>1989-02-10</td>\n",
       "      <td>1942753</td>\n",
       "      <td>NaN</td>\n",
       "      <td>True</td>\n",
       "    </tr>\n",
       "    <tr>\n",
       "      <th>757</th>\n",
       "      <td>2024-08-09</td>\n",
       "      <td>Gold Medal</td>\n",
       "      <td>1.0</td>\n",
       "      <td>THIAM Nafissatou</td>\n",
       "      <td>Female</td>\n",
       "      <td>BEL</td>\n",
       "      <td>Belgium</td>\n",
       "      <td>Belgium</td>\n",
       "      <td>BEL</td>\n",
       "      <td>Belgium</td>\n",
       "      <td>...</td>\n",
       "      <td>NaN</td>\n",
       "      <td>NaN</td>\n",
       "      <td>Athletics</td>\n",
       "      <td>Women's Heptathlon</td>\n",
       "      <td>ATH</td>\n",
       "      <td>NaN</td>\n",
       "      <td>1994-08-19</td>\n",
       "      <td>1903112</td>\n",
       "      <td>NaN</td>\n",
       "      <td>True</td>\n",
       "    </tr>\n",
       "    <tr>\n",
       "      <th>759</th>\n",
       "      <td>2024-08-09</td>\n",
       "      <td>Bronze Medal</td>\n",
       "      <td>3.0</td>\n",
       "      <td>VIDTS Noor</td>\n",
       "      <td>Female</td>\n",
       "      <td>BEL</td>\n",
       "      <td>Belgium</td>\n",
       "      <td>Belgium</td>\n",
       "      <td>BEL</td>\n",
       "      <td>Belgium</td>\n",
       "      <td>...</td>\n",
       "      <td>NaN</td>\n",
       "      <td>NaN</td>\n",
       "      <td>Athletics</td>\n",
       "      <td>Women's Heptathlon</td>\n",
       "      <td>ATH</td>\n",
       "      <td>NaN</td>\n",
       "      <td>1996-05-30</td>\n",
       "      <td>1895596</td>\n",
       "      <td>NaN</td>\n",
       "      <td>True</td>\n",
       "    </tr>\n",
       "  </tbody>\n",
       "</table>\n",
       "<p>10 rows × 21 columns</p>\n",
       "</div>"
      ],
      "text/plain": [
       "     medal_date    medal_type  medal_code                   name  gender  \\\n",
       "0    2024-07-27    Gold Medal         1.0        EVENEPOEL Remco    Male   \n",
       "2    2024-07-27  Bronze Medal         3.0          van AERT Wout    Male   \n",
       "147  2024-07-31  Bronze Medal         3.0      WILLEMS Gabriella  Female   \n",
       "266  2024-08-03    Gold Medal         1.0        EVENEPOEL Remco    Male   \n",
       "337  2024-08-04  Bronze Medal         3.0          KOPECKY Lotte  Female   \n",
       "530  2024-08-08  Bronze Medal         3.0  van den BOSSCHE Fabio    Male   \n",
       "623  2024-08-09  Bronze Medal         3.0           CHAARI Sarah  Female   \n",
       "652  2024-08-10  Silver Medal         2.0            ABDI Bashir    Male   \n",
       "757  2024-08-09    Gold Medal         1.0       THIAM Nafissatou  Female   \n",
       "759  2024-08-09  Bronze Medal         3.0             VIDTS Noor  Female   \n",
       "\n",
       "    country_code  country country_long nationality_code nationality  ... team  \\\n",
       "0            BEL  Belgium      Belgium              BEL     Belgium  ...  NaN   \n",
       "2            BEL  Belgium      Belgium              BEL     Belgium  ...  NaN   \n",
       "147          BEL  Belgium      Belgium              BEL     Belgium  ...  NaN   \n",
       "266          BEL  Belgium      Belgium              BEL     Belgium  ...  NaN   \n",
       "337          BEL  Belgium      Belgium              BEL     Belgium  ...  NaN   \n",
       "530          BEL  Belgium      Belgium              BEL     Belgium  ...  NaN   \n",
       "623          BEL  Belgium      Belgium              BEL     Belgium  ...  NaN   \n",
       "652          BEL  Belgium      Belgium              BEL     Belgium  ...  NaN   \n",
       "757          BEL  Belgium      Belgium              BEL     Belgium  ...  NaN   \n",
       "759          BEL  Belgium      Belgium              BEL     Belgium  ...  NaN   \n",
       "\n",
       "    team_gender     discipline                        event event_type  \\\n",
       "0           NaN   Cycling Road  Men's Individual Time Trial        ATH   \n",
       "2           NaN   Cycling Road  Men's Individual Time Trial        ATH   \n",
       "147         NaN           Judo                 Women -70 kg       HATH   \n",
       "266         NaN   Cycling Road              Men's Road Race        ATH   \n",
       "337         NaN   Cycling Road            Women's Road Race        ATH   \n",
       "530         NaN  Cycling Track                 Men's Omnium        ATH   \n",
       "623         NaN      Taekwondo                  Women -67kg       HATH   \n",
       "652         NaN      Athletics               Men's Marathon        ATH   \n",
       "757         NaN      Athletics           Women's Heptathlon        ATH   \n",
       "759         NaN      Athletics           Women's Heptathlon        ATH   \n",
       "\n",
       "                                             url_event  birth_date  \\\n",
       "0    /en/paris-2024/results/cycling-road/men-s-indi...  2000-01-25   \n",
       "2    /en/paris-2024/results/cycling-road/men-s-indi...  1994-09-15   \n",
       "147  /en/paris-2024/results/judo/women--70-kg/repf0...  1997-07-01   \n",
       "266  /en/paris-2024/results/cycling-road/men-s-road...  2000-01-25   \n",
       "337  /en/paris-2024/results/cycling-road/women-s-ro...  1995-11-10   \n",
       "530  /en/paris-2024/results/cycling-track/men-s-omn...  2000-09-21   \n",
       "623  /en/paris-2024/results/taekwondo/women--67kg/r...  2005-05-02   \n",
       "652  /en/paris-2024/results/athletics/men-s-maratho...  1989-02-10   \n",
       "757                                                NaN  1994-08-19   \n",
       "759                                                NaN  1996-05-30   \n",
       "\n",
       "    code_athlete  code_team is_medallist  \n",
       "0        1903136        NaN         True  \n",
       "2        1903147        NaN         True  \n",
       "147      1903248        NaN         True  \n",
       "266      1903136        NaN         True  \n",
       "337      1903120        NaN         True  \n",
       "530      1915370        NaN         True  \n",
       "623      1903284        NaN         True  \n",
       "652      1942753        NaN         True  \n",
       "757      1903112        NaN         True  \n",
       "759      1895596        NaN         True  \n",
       "\n",
       "[10 rows x 21 columns]"
      ]
     },
     "execution_count": 8,
     "metadata": {},
     "output_type": "execute_result"
    }
   ],
   "source": [
    "data_BEL=data[data.country_code=='BEL']\n",
    "data_BEL"
   ]
  },
  {
   "cell_type": "code",
   "execution_count": 9,
   "id": "d3133734",
   "metadata": {},
   "outputs": [
    {
     "data": {
      "text/plain": [
       "10"
      ]
     },
     "execution_count": 9,
     "metadata": {},
     "output_type": "execute_result"
    }
   ],
   "source": [
    "len(data_BEL)"
   ]
  },
  {
   "cell_type": "markdown",
   "id": "9cf977b1",
   "metadata": {},
   "source": [
    "## 5. What is the average age of gold medalists?\n",
    "*Hint: Filter for `Gold Medal` in the `medal_type` column, and calculate the difference between `medal_date` and `birth_date`.*"
   ]
  },
  {
   "cell_type": "code",
   "execution_count": 10,
   "id": "d29d7a44",
   "metadata": {},
   "outputs": [
    {
     "name": "stdout",
     "output_type": "stream",
     "text": [
      "The average age of gold medalists is 26.99.\n"
     ]
    },
    {
     "name": "stderr",
     "output_type": "stream",
     "text": [
      "C:\\Users\\bushc\\AppData\\Local\\Temp\\ipykernel_5112\\3098555988.py:2: SettingWithCopyWarning: \n",
      "A value is trying to be set on a copy of a slice from a DataFrame.\n",
      "Try using .loc[row_indexer,col_indexer] = value instead\n",
      "\n",
      "See the caveats in the documentation: https://pandas.pydata.org/pandas-docs/stable/user_guide/indexing.html#returning-a-view-versus-a-copy\n",
      "  data_gold['medal_date']=pd.to_datetime(data_gold[\"medal_date\"],format='mixed')\n",
      "C:\\Users\\bushc\\AppData\\Local\\Temp\\ipykernel_5112\\3098555988.py:3: SettingWithCopyWarning: \n",
      "A value is trying to be set on a copy of a slice from a DataFrame.\n",
      "Try using .loc[row_indexer,col_indexer] = value instead\n",
      "\n",
      "See the caveats in the documentation: https://pandas.pydata.org/pandas-docs/stable/user_guide/indexing.html#returning-a-view-versus-a-copy\n",
      "  data_gold['birth_date']=pd.to_datetime(data_gold[\"birth_date\"],format='mixed')\n"
     ]
    }
   ],
   "source": [
    "data_gold=data[(data.medal_type=='Gold Medal')]\n",
    "data_gold['medal_date']=pd.to_datetime(data_gold[\"medal_date\"],format='mixed')\n",
    "data_gold['birth_date']=pd.to_datetime(data_gold[\"birth_date\"],format='mixed')\n",
    "avg_age=data_gold['medal_date'].dt.year-data_gold['birth_date'].dt.year\n",
    "avg_age.mean()\n",
    "avg_age_round=round(avg_age.mean(),2)\n",
    "print(f'The average age of gold medalists is {avg_age_round}.')"
   ]
  },
  {
   "cell_type": "markdown",
   "id": "026d88a6",
   "metadata": {},
   "source": [
    "## 6. List the names of all athletes who won a silver medal in a cycling event.\n",
    "*Hint: Filter by `medal_type` (Silver) and `discipline` (Cycling Road), then display the `name` column.*"
   ]
  },
  {
   "cell_type": "code",
   "execution_count": 11,
   "id": "215ab6f4",
   "metadata": {},
   "outputs": [
    {
     "data": {
      "text/plain": [
       "1         GANNA Filippo\n",
       "4        HENDERSON Anna\n",
       "267    MADOUAS Valentin\n",
       "336        VOS Marianne\n",
       "Name: name, dtype: object"
      ]
     },
     "execution_count": 11,
     "metadata": {},
     "output_type": "execute_result"
    }
   ],
   "source": [
    "data_silver=data[(data.medal_type=='Silver Medal')&(data.discipline=='Cycling Road')]\n",
    "data_silver['name']"
   ]
  },
  {
   "cell_type": "markdown",
   "id": "49ee100b",
   "metadata": {},
   "source": [
    "## 7. How many events did female athletes participate in?\n",
    "*Hint: Filter on `gender` (Female) and count the unique values in the `event` column.*"
   ]
  },
  {
   "cell_type": "code",
   "execution_count": 12,
   "id": "a6589a59",
   "metadata": {},
   "outputs": [
    {
     "data": {
      "text/plain": [
       "event\n",
       "Men                            342\n",
       "Women                          338\n",
       "Mixed Team                      55\n",
       "Women's Team                    33\n",
       "Men's Team                      33\n",
       "                              ... \n",
       "Women's Shot Put                 3\n",
       "B-Girls                          3\n",
       "Men's Canoe Single 1000m         3\n",
       "Men's Sprint                     3\n",
       "Men's Individual Time Trial      3\n",
       "Name: count, Length: 288, dtype: int64"
      ]
     },
     "execution_count": 12,
     "metadata": {},
     "output_type": "execute_result"
    }
   ],
   "source": [
    "data['event'].value_counts()"
   ]
  },
  {
   "cell_type": "code",
   "execution_count": 13,
   "id": "2d092dd5",
   "metadata": {
    "scrolled": true
   },
   "outputs": [
    {
     "data": {
      "text/plain": [
       "150"
      ]
     },
     "execution_count": 13,
     "metadata": {},
     "output_type": "execute_result"
    }
   ],
   "source": [
    "data_F=data[(data.gender==\"Female\")]\n",
    "len(data_F['event'].unique())"
   ]
  },
  {
   "cell_type": "markdown",
   "id": "5643d60e",
   "metadata": {},
   "source": [
    "## 8. Which country had the highest number of gold medals?\n",
    "*Hint: Filter for `Gold Medal` in the `medal_type` column and use `value_counts()` on the `country` column.*"
   ]
  },
  {
   "cell_type": "code",
   "execution_count": 14,
   "id": "ed09fc9e",
   "metadata": {},
   "outputs": [
    {
     "data": {
      "text/plain": [
       "country\n",
       "United States    134\n",
       "Name: count, dtype: int64"
      ]
     },
     "execution_count": 14,
     "metadata": {},
     "output_type": "execute_result"
    }
   ],
   "source": [
    "data_Gold=data[(data.medal_type=='Gold Medal')]\n",
    "data_Gold['country'].value_counts().head(1)"
   ]
  },
  {
   "cell_type": "markdown",
   "id": "f982cb2a",
   "metadata": {},
   "source": [
    "## 9. What are the top three most common disciplines for male athletes?\n",
    "*Hint: Filter by `gender` (Male) and use `value_counts()` on the `discipline` column to get the top three.*"
   ]
  },
  {
   "cell_type": "code",
   "execution_count": 15,
   "id": "3c38804f",
   "metadata": {},
   "outputs": [
    {
     "data": {
      "text/plain": [
       "discipline\n",
       "Athletics    113\n",
       "Swimming     107\n",
       "Rowing        72\n",
       "Name: count, dtype: int64"
      ]
     },
     "execution_count": 15,
     "metadata": {},
     "output_type": "execute_result"
    }
   ],
   "source": [
    "data_D=data[(data.gender=='Male')]\n",
    "data_D['discipline'].value_counts().head(3)"
   ]
  },
  {
   "cell_type": "markdown",
   "id": "acc430dc",
   "metadata": {},
   "source": [
    "## 10. Find the youngest and oldest medalists in the dataset.\n",
    "*Hint: Calculate the difference between `medal_date` and `birth_date`, then use `min()` and `max()`.*"
   ]
  },
  {
   "cell_type": "code",
   "execution_count": 16,
   "id": "f883224a",
   "metadata": {},
   "outputs": [
    {
     "data": {
      "text/html": [
       "<div>\n",
       "<style scoped>\n",
       "    .dataframe tbody tr th:only-of-type {\n",
       "        vertical-align: middle;\n",
       "    }\n",
       "\n",
       "    .dataframe tbody tr th {\n",
       "        vertical-align: top;\n",
       "    }\n",
       "\n",
       "    .dataframe thead th {\n",
       "        text-align: right;\n",
       "    }\n",
       "</style>\n",
       "<table border=\"1\" class=\"dataframe\">\n",
       "  <thead>\n",
       "    <tr style=\"text-align: right;\">\n",
       "      <th></th>\n",
       "      <th>medal_date</th>\n",
       "      <th>medal_type</th>\n",
       "      <th>medal_code</th>\n",
       "      <th>name</th>\n",
       "      <th>gender</th>\n",
       "      <th>country_code</th>\n",
       "      <th>country</th>\n",
       "      <th>country_long</th>\n",
       "      <th>nationality_code</th>\n",
       "      <th>nationality</th>\n",
       "      <th>...</th>\n",
       "      <th>team_gender</th>\n",
       "      <th>discipline</th>\n",
       "      <th>event</th>\n",
       "      <th>event_type</th>\n",
       "      <th>url_event</th>\n",
       "      <th>birth_date</th>\n",
       "      <th>code_athlete</th>\n",
       "      <th>code_team</th>\n",
       "      <th>is_medallist</th>\n",
       "      <th>avg_age</th>\n",
       "    </tr>\n",
       "  </thead>\n",
       "  <tbody>\n",
       "    <tr>\n",
       "      <th>401</th>\n",
       "      <td>2024-08-05</td>\n",
       "      <td>Silver Medal</td>\n",
       "      <td>2.0</td>\n",
       "      <td>WESTON-WEBB Tatiana</td>\n",
       "      <td>Female</td>\n",
       "      <td>BRA</td>\n",
       "      <td>Brazil</td>\n",
       "      <td>Brazil</td>\n",
       "      <td>BRA</td>\n",
       "      <td>Brazil</td>\n",
       "      <td>...</td>\n",
       "      <td>NaN</td>\n",
       "      <td>Surfing</td>\n",
       "      <td>Women</td>\n",
       "      <td>HATH</td>\n",
       "      <td>/en/paris-2024/results/surfing/women/fnl---------</td>\n",
       "      <td>1996-05-09</td>\n",
       "      <td>1955783</td>\n",
       "      <td>NaN</td>\n",
       "      <td>True</td>\n",
       "      <td>28</td>\n",
       "    </tr>\n",
       "  </tbody>\n",
       "</table>\n",
       "<p>1 rows × 22 columns</p>\n",
       "</div>"
      ],
      "text/plain": [
       "    medal_date    medal_type  medal_code                 name  gender  \\\n",
       "401 2024-08-05  Silver Medal         2.0  WESTON-WEBB Tatiana  Female   \n",
       "\n",
       "    country_code country country_long nationality_code nationality  ...  \\\n",
       "401          BRA  Brazil       Brazil              BRA      Brazil  ...   \n",
       "\n",
       "    team_gender discipline  event event_type  \\\n",
       "401         NaN    Surfing  Women       HATH   \n",
       "\n",
       "                                             url_event birth_date  \\\n",
       "401  /en/paris-2024/results/surfing/women/fnl--------- 1996-05-09   \n",
       "\n",
       "    code_athlete code_team  is_medallist avg_age  \n",
       "401      1955783       NaN          True      28  \n",
       "\n",
       "[1 rows x 22 columns]"
      ]
     },
     "execution_count": 16,
     "metadata": {},
     "output_type": "execute_result"
    }
   ],
   "source": [
    "\n",
    "data['medal_date']=pd.to_datetime(data[\"medal_date\"],format='mixed')\n",
    "data['birth_date']=pd.to_datetime(data[\"birth_date\"],format='mixed')\n",
    "data['avg_age']=data['medal_date'].dt.year-data['birth_date'].dt.year\n",
    "data.sample()"
   ]
  },
  {
   "cell_type": "code",
   "execution_count": 17,
   "id": "4977d43e",
   "metadata": {},
   "outputs": [
    {
     "data": {
      "text/html": [
       "<div>\n",
       "<style scoped>\n",
       "    .dataframe tbody tr th:only-of-type {\n",
       "        vertical-align: middle;\n",
       "    }\n",
       "\n",
       "    .dataframe tbody tr th {\n",
       "        vertical-align: top;\n",
       "    }\n",
       "\n",
       "    .dataframe thead th {\n",
       "        text-align: right;\n",
       "    }\n",
       "</style>\n",
       "<table border=\"1\" class=\"dataframe\">\n",
       "  <thead>\n",
       "    <tr style=\"text-align: right;\">\n",
       "      <th></th>\n",
       "      <th>medal_date</th>\n",
       "      <th>medal_type</th>\n",
       "      <th>medal_code</th>\n",
       "      <th>name</th>\n",
       "      <th>gender</th>\n",
       "      <th>country_code</th>\n",
       "      <th>country</th>\n",
       "      <th>country_long</th>\n",
       "      <th>nationality_code</th>\n",
       "      <th>nationality</th>\n",
       "      <th>...</th>\n",
       "      <th>team_gender</th>\n",
       "      <th>discipline</th>\n",
       "      <th>event</th>\n",
       "      <th>event_type</th>\n",
       "      <th>url_event</th>\n",
       "      <th>birth_date</th>\n",
       "      <th>code_athlete</th>\n",
       "      <th>code_team</th>\n",
       "      <th>is_medallist</th>\n",
       "      <th>avg_age</th>\n",
       "    </tr>\n",
       "  </thead>\n",
       "  <tbody>\n",
       "    <tr>\n",
       "      <th>432</th>\n",
       "      <td>2024-08-06</td>\n",
       "      <td>Gold Medal</td>\n",
       "      <td>1.0</td>\n",
       "      <td>TREW Arisa</td>\n",
       "      <td>Female</td>\n",
       "      <td>AUS</td>\n",
       "      <td>Australia</td>\n",
       "      <td>Australia</td>\n",
       "      <td>AUS</td>\n",
       "      <td>Australia</td>\n",
       "      <td>...</td>\n",
       "      <td>NaN</td>\n",
       "      <td>Skateboarding</td>\n",
       "      <td>Women's Park</td>\n",
       "      <td>ATH</td>\n",
       "      <td>/en/paris-2024/results/skateboarding/women-s-p...</td>\n",
       "      <td>2010-05-12</td>\n",
       "      <td>1946064</td>\n",
       "      <td>NaN</td>\n",
       "      <td>True</td>\n",
       "      <td>14</td>\n",
       "    </tr>\n",
       "  </tbody>\n",
       "</table>\n",
       "<p>1 rows × 22 columns</p>\n",
       "</div>"
      ],
      "text/plain": [
       "    medal_date  medal_type  medal_code        name  gender country_code  \\\n",
       "432 2024-08-06  Gold Medal         1.0  TREW Arisa  Female          AUS   \n",
       "\n",
       "       country country_long nationality_code nationality  ... team_gender  \\\n",
       "432  Australia    Australia              AUS   Australia  ...         NaN   \n",
       "\n",
       "        discipline         event event_type  \\\n",
       "432  Skateboarding  Women's Park        ATH   \n",
       "\n",
       "                                             url_event birth_date  \\\n",
       "432  /en/paris-2024/results/skateboarding/women-s-p... 2010-05-12   \n",
       "\n",
       "    code_athlete code_team  is_medallist avg_age  \n",
       "432      1946064       NaN          True      14  \n",
       "\n",
       "[1 rows x 22 columns]"
      ]
     },
     "execution_count": 17,
     "metadata": {},
     "output_type": "execute_result"
    }
   ],
   "source": [
    "data[data['avg_age']==data['avg_age'].min()]"
   ]
  },
  {
   "cell_type": "code",
   "execution_count": 18,
   "id": "79daee93",
   "metadata": {},
   "outputs": [
    {
     "data": {
      "text/html": [
       "<div>\n",
       "<style scoped>\n",
       "    .dataframe tbody tr th:only-of-type {\n",
       "        vertical-align: middle;\n",
       "    }\n",
       "\n",
       "    .dataframe tbody tr th {\n",
       "        vertical-align: top;\n",
       "    }\n",
       "\n",
       "    .dataframe thead th {\n",
       "        text-align: right;\n",
       "    }\n",
       "</style>\n",
       "<table border=\"1\" class=\"dataframe\">\n",
       "  <thead>\n",
       "    <tr style=\"text-align: right;\">\n",
       "      <th></th>\n",
       "      <th>medal_date</th>\n",
       "      <th>medal_type</th>\n",
       "      <th>medal_code</th>\n",
       "      <th>name</th>\n",
       "      <th>gender</th>\n",
       "      <th>country_code</th>\n",
       "      <th>country</th>\n",
       "      <th>country_long</th>\n",
       "      <th>nationality_code</th>\n",
       "      <th>nationality</th>\n",
       "      <th>...</th>\n",
       "      <th>team_gender</th>\n",
       "      <th>discipline</th>\n",
       "      <th>event</th>\n",
       "      <th>event_type</th>\n",
       "      <th>url_event</th>\n",
       "      <th>birth_date</th>\n",
       "      <th>code_athlete</th>\n",
       "      <th>code_team</th>\n",
       "      <th>is_medallist</th>\n",
       "      <th>avg_age</th>\n",
       "    </tr>\n",
       "  </thead>\n",
       "  <tbody>\n",
       "    <tr>\n",
       "      <th>1126</th>\n",
       "      <td>2024-08-02</td>\n",
       "      <td>Silver Medal</td>\n",
       "      <td>2.0</td>\n",
       "      <td>KRAUT Laura</td>\n",
       "      <td>Female</td>\n",
       "      <td>USA</td>\n",
       "      <td>United States</td>\n",
       "      <td>United States of America</td>\n",
       "      <td>USA</td>\n",
       "      <td>United States</td>\n",
       "      <td>...</td>\n",
       "      <td>O</td>\n",
       "      <td>Equestrian</td>\n",
       "      <td>Jumping Team</td>\n",
       "      <td>TEAM</td>\n",
       "      <td>/en/paris-2024/results/equestrian/jumping-team...</td>\n",
       "      <td>1965-11-14</td>\n",
       "      <td>1951840</td>\n",
       "      <td>EQUOJUMPTEAMUSA01</td>\n",
       "      <td>True</td>\n",
       "      <td>59</td>\n",
       "    </tr>\n",
       "  </tbody>\n",
       "</table>\n",
       "<p>1 rows × 22 columns</p>\n",
       "</div>"
      ],
      "text/plain": [
       "     medal_date    medal_type  medal_code         name  gender country_code  \\\n",
       "1126 2024-08-02  Silver Medal         2.0  KRAUT Laura  Female          USA   \n",
       "\n",
       "            country              country_long nationality_code    nationality  \\\n",
       "1126  United States  United States of America              USA  United States   \n",
       "\n",
       "      ... team_gender  discipline         event event_type  \\\n",
       "1126  ...           O  Equestrian  Jumping Team       TEAM   \n",
       "\n",
       "                                              url_event birth_date  \\\n",
       "1126  /en/paris-2024/results/equestrian/jumping-team... 1965-11-14   \n",
       "\n",
       "     code_athlete          code_team  is_medallist avg_age  \n",
       "1126      1951840  EQUOJUMPTEAMUSA01          True      59  \n",
       "\n",
       "[1 rows x 22 columns]"
      ]
     },
     "execution_count": 18,
     "metadata": {},
     "output_type": "execute_result"
    }
   ],
   "source": [
    "data[data['avg_age']==data['avg_age'].max()]"
   ]
  },
  {
   "cell_type": "code",
   "execution_count": null,
   "id": "4bbb564e",
   "metadata": {},
   "outputs": [],
   "source": []
  }
 ],
 "metadata": {
  "kernelspec": {
   "display_name": "Python 3 (ipykernel)",
   "language": "python",
   "name": "python3"
  },
  "language_info": {
   "codemirror_mode": {
    "name": "ipython",
    "version": 3
   },
   "file_extension": ".py",
   "mimetype": "text/x-python",
   "name": "python",
   "nbconvert_exporter": "python",
   "pygments_lexer": "ipython3",
   "version": "3.11.5"
  }
 },
 "nbformat": 4,
 "nbformat_minor": 5
}
